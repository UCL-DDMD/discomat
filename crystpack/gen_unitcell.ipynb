{
 "cells": [
  {
   "cell_type": "code",
   "execution_count": 55,
   "id": "bda4c4ed-f3fa-494d-a5bf-ea365084304a",
   "metadata": {},
   "outputs": [],
   "source": [
    "import numpy as np\n",
    "from scipy import linalg\n",
    "from ase import Atoms\n",
    "from ase.io import write"
   ]
  },
  {
   "cell_type": "code",
   "execution_count": 56,
   "id": "bb705888-c9b1-4fcc-acad-d7dd262083fb",
   "metadata": {},
   "outputs": [
    {
     "name": "stdout",
     "output_type": "stream",
     "text": [
      "the original lattice vectors and basis vectors \n",
      " [[3.615 0.    0.   ]\n",
      " [0.    3.615 0.   ]\n",
      " [0.    0.    3.615]] \n",
      "\n",
      "  [[0.  0.  0. ]\n",
      " [0.5 0.5 0. ]\n",
      " [0.  0.5 0.5]\n",
      " [0.5 0.  0.5]]\n"
     ]
    }
   ],
   "source": [
    "# Lattice parameter, Copper  \n",
    "a_lat = 3.615  # [Angstroms]\n",
    "\n",
    "# Cubic fractional basis, in rows. \n",
    "original_basis = np.array([\n",
    "    [0.0, 0.0, 0.0],\n",
    "    [0.5, 0.5, 0.0],\n",
    "    [0.0, 0.5, 0.5],\n",
    "    [0.5, 0.0, 0.5]\n",
    "])\n",
    "\n",
    "# Lattice vectors, in columns, or rows, its same here... but we will have to make sure all vectors should are column wise. \n",
    "original_lattice_vectors = np.eye(3) * a_lat\n",
    "\n",
    "print(f\"the original lattice vectors and basis vectors \\n {original_lattice_vectors} \\n\\n  {original_basis}\")"
   ]
  },
  {
   "cell_type": "code",
   "execution_count": 57,
   "id": "39f49e71-2729-4f79-89a6-1b73a1ca5756",
   "metadata": {},
   "outputs": [],
   "source": [
    "# New axes directions - new setting! we want the new lattice to be orthonormal and oriented along x y, z like so:\n",
    "#x_new = np.array([0.5,   -0.5,    0]) \n",
    "#y_new = np.array([0.5,    0.5,   -1])\n",
    "#z_new = np.array([1,    1 ,   1])"
   ]
  },
  {
   "cell_type": "code",
   "execution_count": 58,
   "id": "3fcb0b75-703a-405c-81c3-e0b5383217f9",
   "metadata": {},
   "outputs": [],
   "source": [
    "# New axes directions - new setting! we want the new lattice to be orthonormal and oriented along x y, z like so:\n",
    "#x_new = np.array([1,   1,    0]) \n",
    "#y_new = np.array([1,    -1,   0])\n",
    "#z_new = np.array([0,    0 ,   1])"
   ]
  },
  {
   "cell_type": "code",
   "execution_count": 59,
   "id": "bf3df0d3-9398-4b88-8ff9-aa6be3883ba6",
   "metadata": {},
   "outputs": [],
   "source": [
    "# New axes directions - new setting! we want the new lattice to be orthonormal and oriented along x y, z like so:\n",
    "#x_new = np.array([0.5,   0.5,    0]) \n",
    "#y_new = np.array([0.5,   -0.5,   0])\n",
    "#z_new = np.array([0,    0 ,   1])"
   ]
  },
  {
   "cell_type": "code",
   "execution_count": 60,
   "id": "94bedd74-85cb-4301-a772-57bee30d799e",
   "metadata": {},
   "outputs": [],
   "source": [
    "# New axes directions - new setting! we want the new lattice to be orthonormal and oriented along x y, z like so:\n",
    "#x_new = np.array([1,   -1,    0]) \n",
    "#y_new = np.array([1,   1,   -2])\n",
    "#z_new = np.array([1,   1 ,   1])"
   ]
  },
  {
   "cell_type": "code",
   "execution_count": 61,
   "id": "ec546058-8803-443e-ad3c-c41d9100d619",
   "metadata": {},
   "outputs": [],
   "source": [
    "# New axes directions - new setting! we want the new lattice to be orthonormal and oriented along x y, z like so:\n",
    "x_new = np.array([0.5,   -0.5,    0]) \n",
    "y_new = np.array([0.5,   0.5,   -1])\n",
    "z_new = np.array([1,   1 ,   1])"
   ]
  },
  {
   "cell_type": "code",
   "execution_count": 62,
   "id": "2ae3444c-2cf6-4d89-8207-bec37ab4dbb3",
   "metadata": {},
   "outputs": [],
   "source": [
    "# New axes directions - new setting! we want the new lattice to be orthonormal and oriented along x y, z like so:\n",
    "#x_new = np.array([2, -2, 0]) \n",
    "#y_new = np.array([3, 3, -6])\n",
    "#z_new = np.array([1,   1 ,   1])"
   ]
  },
  {
   "cell_type": "code",
   "execution_count": 63,
   "id": "f94b3bca-6290-4b23-b4fd-464a36e2f7e3",
   "metadata": {},
   "outputs": [],
   "source": [
    "# New axes directions - new setting! we want the new lattice to be orthonormal and oriented along x y, z like so:\n",
    "#x_new = np.array([0.5,   -0.5,    0]) \n",
    "#y_new = np.array([0.5,   0.5,   -1])\n",
    "#z_new = np.array([0.5,   0.5 ,   0.5])"
   ]
  },
  {
   "cell_type": "code",
   "execution_count": 64,
   "id": "99cc0fb6-d6da-4d08-92d5-a1704b87edca",
   "metadata": {},
   "outputs": [],
   "source": [
    "# The rotation matrix is simply the one with each column a vector of the new lattice. Why?\n",
    "rot_matrix = np.column_stack([x_new, y_new, z_new])"
   ]
  },
  {
   "cell_type": "code",
   "execution_count": 65,
   "id": "5b3283fb-9e1b-40d3-8925-915b625d319d",
   "metadata": {},
   "outputs": [
    {
     "name": "stdout",
     "output_type": "stream",
     "text": [
      "[[ 0.5  0.5  1. ]\n",
      " [-0.5  0.5  1. ]\n",
      " [ 0.  -1.   1. ]]\n"
     ]
    }
   ],
   "source": [
    "print(rot_matrix) # Note: This is "
   ]
  },
  {
   "cell_type": "code",
   "execution_count": 66,
   "id": "3728b108-0c64-43e3-87f7-d328c79b9579",
   "metadata": {},
   "outputs": [
    {
     "name": "stdout",
     "output_type": "stream",
     "text": [
      "[[ 1.8075  1.8075  3.615 ]\n",
      " [-1.8075  1.8075  3.615 ]\n",
      " [ 0.     -3.615   3.615 ]]\n"
     ]
    }
   ],
   "source": [
    "# Calculate original lattice vectors in the rotated coordinate system! not x_new etc. \n",
    "# Read them column-wise\n",
    "\n",
    "new_lattice_vectors = original_lattice_vectors @ rot_matrix \n",
    "print(new_lattice_vectors) # in original cartesian"
   ]
  },
  {
   "cell_type": "code",
   "execution_count": 67,
   "id": "7252a914-5317-491e-a103-27bff3dc7684",
   "metadata": {},
   "outputs": [
    {
     "name": "stdout",
     "output_type": "stream",
     "text": [
      "[[0.     1.8075 0.     1.8075]\n",
      " [0.     1.8075 1.8075 0.    ]\n",
      " [0.     0.     1.8075 1.8075]]\n"
     ]
    }
   ],
   "source": [
    "original_basis_cart=original_lattice_vectors @ original_basis.T # get the real coordinates basis vectors \n",
    "# i.e., according to the original cartesian coordinates. \n",
    "print(original_basis_cart)"
   ]
  },
  {
   "cell_type": "code",
   "execution_count": 68,
   "id": "fec8ccd8-013e-4749-b5b0-556e911e4f23",
   "metadata": {},
   "outputs": [],
   "source": [
    "A=linalg.inv(original_lattice_vectors) # the inverse of the lattice vectors matrix can convert a cartesian to lattice fractional vectors"
   ]
  },
  {
   "cell_type": "code",
   "execution_count": 69,
   "id": "323e2515-0124-4179-8ff6-e9f0b644f062",
   "metadata": {},
   "outputs": [
    {
     "data": {
      "text/plain": [
       "array([[0. , 0.5, 0. , 0.5],\n",
       "       [0. , 0.5, 0.5, 0. ],\n",
       "       [0. , 0. , 0.5, 0.5]])"
      ]
     },
     "execution_count": 69,
     "metadata": {},
     "output_type": "execute_result"
    }
   ],
   "source": [
    "A @ (original_basis_cart) # convert back to lattice coordinates using the original basis. This is just a check."
   ]
  },
  {
   "cell_type": "code",
   "execution_count": 70,
   "id": "12d1bcd5-fbcf-4762-979e-a006a3663f85",
   "metadata": {},
   "outputs": [],
   "source": [
    "B=linalg.inv(new_lattice_vectors) # similarly, will be used to convert from cart into the fractional units of the new lattice vectors. "
   ]
  },
  {
   "cell_type": "code",
   "execution_count": 71,
   "id": "ca2114b3-f27d-4656-a89c-1aaf0ac35017",
   "metadata": {},
   "outputs": [
    {
     "name": "stdout",
     "output_type": "stream",
     "text": [
      "[[ 2.76625173e-01 -2.76625173e-01 -3.17123443e-17]\n",
      " [ 9.22083910e-02  9.22083910e-02 -1.84416782e-01]\n",
      " [ 9.22083910e-02  9.22083910e-02  9.22083910e-02]]\n"
     ]
    }
   ],
   "source": [
    "print(B)"
   ]
  },
  {
   "cell_type": "code",
   "execution_count": 72,
   "id": "75a00bf5-cbfa-4a4d-99b0-ce703aeed9db",
   "metadata": {},
   "outputs": [],
   "source": [
    "new_basis=B @ original_basis_cart  \n",
    "# Note: These are not all atoms if the new unit cell is larger! \n",
    "# so we need to find the other ones in teh same unit cell."
   ]
  },
  {
   "cell_type": "code",
   "execution_count": 73,
   "id": "33d1191b-03ef-4065-ba68-9d85551d99d8",
   "metadata": {},
   "outputs": [
    {
     "name": "stdout",
     "output_type": "stream",
     "text": [
      "[[ 0.00000000e+00  1.52177141e-16 -5.00000000e-01  5.00000000e-01]\n",
      " [ 0.00000000e+00  3.33333333e-01 -1.66666667e-01 -1.66666667e-01]\n",
      " [ 0.00000000e+00  3.33333333e-01  3.33333333e-01  3.33333333e-01]]\n"
     ]
    }
   ],
   "source": [
    "print(new_basis)"
   ]
  },
  {
   "cell_type": "code",
   "execution_count": 74,
   "id": "de932fb8-1d01-4d53-a0ba-76b32eac96cd",
   "metadata": {},
   "outputs": [],
   "source": [
    "# Let us find all new fractional coordinates, we use the original setting as a start, and cover a small portion in \n",
    "# cartesian space, then convert each to the new lattice vectors (still based on the same original cartesian system), \n",
    "# and finally take periodic bioundary conditions into account, i.e., we remove any atoms not in the original cell. "
   ]
  },
  {
   "cell_type": "code",
   "execution_count": 75,
   "id": "c3314292-64de-435d-bfd1-267e7991d10a",
   "metadata": {},
   "outputs": [],
   "source": [
    "point_grid = np.array([[i, j, k] for i in range(-10, 10) for j in range(-10, 10) for k in range(-10, 10)])"
   ]
  },
  {
   "cell_type": "code",
   "execution_count": 76,
   "id": "0e6e1eb9-a22b-49b0-9599-5f7c77ed6a0b",
   "metadata": {},
   "outputs": [
    {
     "name": "stdout",
     "output_type": "stream",
     "text": [
      "shift=[ 0  0 -1], atom=[0.5 0.  0.5], new_atom_frac=[ 0.5  0.  -0.5], cart_atom=[ 1.8075  0.     -1.8075], \n",
      " new_atom_frac_new_lattice=[ 5.00000000e-01  5.00000000e-01 -5.67346231e-17]\n",
      "shift=[0 0 0], atom=[0. 0. 0.], new_atom_frac=[0. 0. 0.], cart_atom=[0. 0. 0.], \n",
      " new_atom_frac_new_lattice=[0. 0. 0.]\n",
      "shift=[0 0 0], atom=[0.5 0.5 0. ], new_atom_frac=[0.5 0.5 0. ], cart_atom=[1.8075 1.8075 0.    ], \n",
      " new_atom_frac_new_lattice=[1.52177141e-16 3.33333333e-01 3.33333333e-01]\n",
      "shift=[ 1  0 -1], atom=[0.  0.5 0.5], new_atom_frac=[ 1.   0.5 -0.5], cart_atom=[ 3.615   1.8075 -1.8075], \n",
      " new_atom_frac_new_lattice=[0.5        0.83333333 0.33333333]\n",
      "shift=[1 0 0], atom=[0.  0.5 0.5], new_atom_frac=[1.  0.5 0.5], cart_atom=[3.615  1.8075 1.8075], \n",
      " new_atom_frac_new_lattice=[0.5        0.16666667 0.66666667]\n",
      "shift=[1 1 0], atom=[0. 0. 0.], new_atom_frac=[1. 1. 0.], cart_atom=[3.615 3.615 0.   ], \n",
      " new_atom_frac_new_lattice=[3.04354283e-16 6.66666667e-01 6.66666667e-01]\n",
      "size_new_basis=6\n",
      "New lattice vectors (columns, in Å), rotated such as a1 // X, a2//y, a3 //z (new x, y, z):\n",
      "\n",
      " new_lattice_vectors = \n",
      " [[ 1.8075  1.8075  3.615 ]\n",
      " [-1.8075  1.8075  3.615 ]\n",
      " [ 0.     -3.615   3.615 ]], \n",
      ", new_lattice_xyz=\n",
      "[[2.55619101 0.         0.        ]\n",
      " [0.         4.42745271 0.        ]\n",
      " [0.         0.         6.26136367]], \n",
      " new lattice normalised by a_lat=\n",
      "[[0.70710678 0.         0.        ]\n",
      " [0.         1.22474487 0.        ]\n",
      " [0.         0.         1.73205081]]\n",
      "\n",
      "New basis atom positions (fractional coordinates) in new system:\n",
      "Atom 1: [0. 0. 0.]\n",
      "Atom 2: [0.       0.333333 0.333333]\n",
      "Atom 3: [0.       0.666667 0.666667]\n",
      "Atom 4: [0.5      0.166667 0.666667]\n",
      "Atom 5: [ 0.5  0.5 -0. ]\n",
      "Atom 6: [0.5      0.833333 0.333333]\n"
     ]
    }
   ],
   "source": [
    "size_new_basis = 0 # number of basis atoms in the new system \n",
    "new_basis=[] # the new basis in fractional coordinated with respect to the new lattice vectors. \n",
    "\n",
    "for shift in point_grid:  # this is a grtid of points. \n",
    "    for atom in original_basis:\n",
    "        new_atom_frac = atom + shift\n",
    "        cart_atom = original_lattice_vectors @ new_atom_frac\n",
    "        new_atom_frac_new_lattice = B @ cart_atom\n",
    "        test=np.all(new_atom_frac_new_lattice >= -1e-6) and np.all(new_atom_frac_new_lattice < 1 - 1e-6) # boundary conditions\n",
    "        if (test):\n",
    "            print(f\"shift={shift}, atom={atom}, new_atom_frac={new_atom_frac}, cart_atom={cart_atom}, \\n new_atom_frac_new_lattice={new_atom_frac_new_lattice}\")\n",
    "            size_new_basis += 1\n",
    "            new_basis.append(new_atom_frac_new_lattice)\n",
    "print(f\"size_new_basis={size_new_basis}\")\n",
    "new_basis = np.array(new_basis)\n",
    "\n",
    "# Remove duplicates\n",
    "new_basis = np.unique(np.round(new_basis, decimals=6), axis=0)\n",
    "\n",
    "\n",
    "print(\"New lattice vectors (columns, in Å), rotated such as a1 // X, a2//y, a3 //z (new x, y, z):\")\n",
    "\n",
    "a1=linalg.norm(new_lattice_vectors[:,0])\n",
    "a2=linalg.norm(new_lattice_vectors[:,1])\n",
    "a3=linalg.norm(new_lattice_vectors[:,2])\n",
    "new_lattice_xyz = np.diag([a1, a2, a3])\n",
    "\n",
    "print(f\"\\n new_lattice_vectors = \\n {new_lattice_vectors}, \\n, new_lattice_xyz=\\n{new_lattice_xyz}, \\n new lattice normalised by a_lat=\\n{new_lattice_xyz/a_lat}\")\n",
    "print(\"\\nNew basis atom positions (fractional coordinates) in new system:\")\n",
    "for i, atom in enumerate(new_basis):\n",
    "    print(f\"Atom {i+1}: {atom}\")"
   ]
  },
  {
   "cell_type": "code",
   "execution_count": 77,
   "id": "362806b3-9e35-4e59-adc9-b28268cbddfb",
   "metadata": {},
   "outputs": [],
   "source": [
    "# testing\n",
    "# calculate the volume per atoms, which should be the same as the original.\n",
    "\n",
    "\n",
    "# duplicate and visualise \n",
    "\n",
    "\n",
    "# calculate the RDF? \n"
   ]
  },
  {
   "cell_type": "code",
   "execution_count": 78,
   "id": "afa9674e-5f1a-4415-90d3-87023fa7e319",
   "metadata": {},
   "outputs": [],
   "source": [
    "# create a vasp input file, though later we could directly put this into an Atoms object\n"
   ]
  },
  {
   "cell_type": "code",
   "execution_count": 79,
   "id": "492c48fa-b5d3-468d-82b7-1f4df1a031e8",
   "metadata": {},
   "outputs": [
    {
     "name": "stdout",
     "output_type": "stream",
     "text": [
      "6\n"
     ]
    }
   ],
   "source": [
    "symbol = 'Cu'\n",
    "symbols = [symbol] * len(new_basis)\n",
    "\n",
    "print(len(new_basis))"
   ]
  },
  {
   "cell_type": "code",
   "execution_count": 80,
   "id": "21ff1cf3-a40b-4101-a703-fbddc48c23c4",
   "metadata": {},
   "outputs": [],
   "source": [
    "# the new lattice vectors should be 1 0 0 , 0 1 0 , and 0 0 1, now, but with length given by the one of the lattice vectors in the original system:"
   ]
  },
  {
   "cell_type": "code",
   "execution_count": 81,
   "id": "d38b5155-21bf-427b-8ff9-58bcaf73041d",
   "metadata": {},
   "outputs": [],
   "source": [
    "new_atoms=Atoms(symbols=symbols, cell=new_lattice_xyz, pbc=True)"
   ]
  },
  {
   "cell_type": "code",
   "execution_count": 82,
   "id": "edc799ee-24c1-4831-b43a-0b19edf42475",
   "metadata": {},
   "outputs": [],
   "source": [
    "new_atoms.set_scaled_positions(new_basis)"
   ]
  },
  {
   "cell_type": "code",
   "execution_count": 83,
   "id": "da22022d-dede-48b2-bc57-06f13bb19cd6",
   "metadata": {},
   "outputs": [
    {
     "data": {
      "text/plain": [
       "Atoms(symbols='Cu6', pbc=True, cell=[2.5561910139893693, 4.427452710080595, 6.261363669361492])"
      ]
     },
     "execution_count": 83,
     "metadata": {},
     "output_type": "execute_result"
    }
   ],
   "source": [
    "new_atoms\n"
   ]
  },
  {
   "cell_type": "code",
   "execution_count": 84,
   "id": "d8a638c5-db79-4500-a2d0-2f7d109c3519",
   "metadata": {},
   "outputs": [],
   "source": [
    "write('POSCAR', new_atoms, format='vasp')"
   ]
  },
  {
   "cell_type": "code",
   "execution_count": null,
   "id": "765200cf-68fc-4af9-abc3-5617a30ff4fa",
   "metadata": {},
   "outputs": [],
   "source": []
  },
  {
   "cell_type": "code",
   "execution_count": null,
   "id": "29be0233-a97a-4394-8861-03f2b2ed61fa",
   "metadata": {},
   "outputs": [],
   "source": []
  },
  {
   "cell_type": "code",
   "execution_count": null,
   "id": "b7125253-3518-44e1-b3e7-0ea702c7b4d5",
   "metadata": {},
   "outputs": [],
   "source": []
  },
  {
   "cell_type": "code",
   "execution_count": null,
   "id": "9046ad9c-b61e-46bd-a61b-d9e9b415e6a2",
   "metadata": {},
   "outputs": [],
   "source": []
  }
 ],
 "metadata": {
  "kernelspec": {
   "display_name": "apps",
   "language": "python",
   "name": "apps"
  },
  "language_info": {
   "codemirror_mode": {
    "name": "ipython",
    "version": 3
   },
   "file_extension": ".py",
   "mimetype": "text/x-python",
   "name": "python",
   "nbconvert_exporter": "python",
   "pygments_lexer": "ipython3",
   "version": "3.12.10"
  }
 },
 "nbformat": 4,
 "nbformat_minor": 5
}
